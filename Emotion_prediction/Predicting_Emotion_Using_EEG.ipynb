{
  "nbformat": 4,
  "nbformat_minor": 0,
  "metadata": {
    "colab": {
      "provenance": []
    },
    "kernelspec": {
      "name": "python3",
      "display_name": "Python 3"
    },
    "language_info": {
      "name": "python"
    },
    "accelerator": "GPU",
    "gpuClass": "standard"
  },
  "cells": [
    {
      "cell_type": "markdown",
      "source": [
        "import dependencies -> import data -> read data -> visualize the data ->"
      ],
      "metadata": {
        "id": "Lb-VVRXjS_Js"
      }
    },
    {
      "cell_type": "code",
      "execution_count": 1,
      "metadata": {
        "id": "fZFU3v3YS5Ry"
      },
      "outputs": [],
      "source": [
        "import pandas as pd\n",
        "import numpy as np\n",
        "import matplotlib.pyplot as plt\n",
        "\n",
        "from sklearn.model_selection import train_test_split"
      ]
    },
    {
      "cell_type": "code",
      "source": [
        "df = pd.read_csv('/content/emotions.csv')\n",
        "df.head()"
      ],
      "metadata": {
        "colab": {
          "base_uri": "https://localhost:8080/",
          "height": 317
        },
        "id": "DqdNZYGTVPIo",
        "outputId": "23504ebc-c3f3-40bb-a707-ae882dbe3a83"
      },
      "execution_count": 2,
      "outputs": [
        {
          "output_type": "execute_result",
          "data": {
            "text/plain": [
              "   # mean_0_a  mean_1_a  mean_2_a  mean_3_a  mean_4_a  mean_d_0_a  mean_d_1_a  \\\n",
              "0        4.62      30.3    -356.0      15.6      26.3       1.070       0.411   \n",
              "1       28.80      33.1      32.0      25.8      22.8       6.550       1.680   \n",
              "2        8.90      29.4    -416.0      16.7      23.7      79.900       3.360   \n",
              "3       14.90      31.6    -143.0      19.8      24.3      -0.584      -0.284   \n",
              "4       28.30      31.3      45.2      27.3      24.5      34.800      -5.790   \n",
              "\n",
              "   mean_d_2_a  mean_d_3_a  mean_d_4_a  ...  fft_741_b  fft_742_b  fft_743_b  \\\n",
              "0      -15.70        2.06        3.15  ...       23.5       20.3       20.3   \n",
              "1        2.88        3.83       -4.82  ...      -23.3      -21.8      -21.8   \n",
              "2       90.20       89.90        2.03  ...      462.0     -233.0     -233.0   \n",
              "3        8.82        2.30       -1.97  ...      299.0     -243.0     -243.0   \n",
              "4        3.06       41.40        5.52  ...       12.0       38.1       38.1   \n",
              "\n",
              "   fft_744_b  fft_745_b  fft_746_b  fft_747_b  fft_748_b  fft_749_b     label  \n",
              "0       23.5     -215.0     280.00    -162.00    -162.00     280.00  NEGATIVE  \n",
              "1      -23.3      182.0       2.57     -31.60     -31.60       2.57   NEUTRAL  \n",
              "2      462.0     -267.0     281.00    -148.00    -148.00     281.00  POSITIVE  \n",
              "3      299.0      132.0     -12.40       9.53       9.53     -12.40  POSITIVE  \n",
              "4       12.0      119.0     -17.60      23.90      23.90     -17.60   NEUTRAL  \n",
              "\n",
              "[5 rows x 2549 columns]"
            ],
            "text/html": [
              "\n",
              "  <div id=\"df-8a879c0e-f951-490a-a1f3-e6bef8e2aa3f\">\n",
              "    <div class=\"colab-df-container\">\n",
              "      <div>\n",
              "<style scoped>\n",
              "    .dataframe tbody tr th:only-of-type {\n",
              "        vertical-align: middle;\n",
              "    }\n",
              "\n",
              "    .dataframe tbody tr th {\n",
              "        vertical-align: top;\n",
              "    }\n",
              "\n",
              "    .dataframe thead th {\n",
              "        text-align: right;\n",
              "    }\n",
              "</style>\n",
              "<table border=\"1\" class=\"dataframe\">\n",
              "  <thead>\n",
              "    <tr style=\"text-align: right;\">\n",
              "      <th></th>\n",
              "      <th># mean_0_a</th>\n",
              "      <th>mean_1_a</th>\n",
              "      <th>mean_2_a</th>\n",
              "      <th>mean_3_a</th>\n",
              "      <th>mean_4_a</th>\n",
              "      <th>mean_d_0_a</th>\n",
              "      <th>mean_d_1_a</th>\n",
              "      <th>mean_d_2_a</th>\n",
              "      <th>mean_d_3_a</th>\n",
              "      <th>mean_d_4_a</th>\n",
              "      <th>...</th>\n",
              "      <th>fft_741_b</th>\n",
              "      <th>fft_742_b</th>\n",
              "      <th>fft_743_b</th>\n",
              "      <th>fft_744_b</th>\n",
              "      <th>fft_745_b</th>\n",
              "      <th>fft_746_b</th>\n",
              "      <th>fft_747_b</th>\n",
              "      <th>fft_748_b</th>\n",
              "      <th>fft_749_b</th>\n",
              "      <th>label</th>\n",
              "    </tr>\n",
              "  </thead>\n",
              "  <tbody>\n",
              "    <tr>\n",
              "      <th>0</th>\n",
              "      <td>4.62</td>\n",
              "      <td>30.3</td>\n",
              "      <td>-356.0</td>\n",
              "      <td>15.6</td>\n",
              "      <td>26.3</td>\n",
              "      <td>1.070</td>\n",
              "      <td>0.411</td>\n",
              "      <td>-15.70</td>\n",
              "      <td>2.06</td>\n",
              "      <td>3.15</td>\n",
              "      <td>...</td>\n",
              "      <td>23.5</td>\n",
              "      <td>20.3</td>\n",
              "      <td>20.3</td>\n",
              "      <td>23.5</td>\n",
              "      <td>-215.0</td>\n",
              "      <td>280.00</td>\n",
              "      <td>-162.00</td>\n",
              "      <td>-162.00</td>\n",
              "      <td>280.00</td>\n",
              "      <td>NEGATIVE</td>\n",
              "    </tr>\n",
              "    <tr>\n",
              "      <th>1</th>\n",
              "      <td>28.80</td>\n",
              "      <td>33.1</td>\n",
              "      <td>32.0</td>\n",
              "      <td>25.8</td>\n",
              "      <td>22.8</td>\n",
              "      <td>6.550</td>\n",
              "      <td>1.680</td>\n",
              "      <td>2.88</td>\n",
              "      <td>3.83</td>\n",
              "      <td>-4.82</td>\n",
              "      <td>...</td>\n",
              "      <td>-23.3</td>\n",
              "      <td>-21.8</td>\n",
              "      <td>-21.8</td>\n",
              "      <td>-23.3</td>\n",
              "      <td>182.0</td>\n",
              "      <td>2.57</td>\n",
              "      <td>-31.60</td>\n",
              "      <td>-31.60</td>\n",
              "      <td>2.57</td>\n",
              "      <td>NEUTRAL</td>\n",
              "    </tr>\n",
              "    <tr>\n",
              "      <th>2</th>\n",
              "      <td>8.90</td>\n",
              "      <td>29.4</td>\n",
              "      <td>-416.0</td>\n",
              "      <td>16.7</td>\n",
              "      <td>23.7</td>\n",
              "      <td>79.900</td>\n",
              "      <td>3.360</td>\n",
              "      <td>90.20</td>\n",
              "      <td>89.90</td>\n",
              "      <td>2.03</td>\n",
              "      <td>...</td>\n",
              "      <td>462.0</td>\n",
              "      <td>-233.0</td>\n",
              "      <td>-233.0</td>\n",
              "      <td>462.0</td>\n",
              "      <td>-267.0</td>\n",
              "      <td>281.00</td>\n",
              "      <td>-148.00</td>\n",
              "      <td>-148.00</td>\n",
              "      <td>281.00</td>\n",
              "      <td>POSITIVE</td>\n",
              "    </tr>\n",
              "    <tr>\n",
              "      <th>3</th>\n",
              "      <td>14.90</td>\n",
              "      <td>31.6</td>\n",
              "      <td>-143.0</td>\n",
              "      <td>19.8</td>\n",
              "      <td>24.3</td>\n",
              "      <td>-0.584</td>\n",
              "      <td>-0.284</td>\n",
              "      <td>8.82</td>\n",
              "      <td>2.30</td>\n",
              "      <td>-1.97</td>\n",
              "      <td>...</td>\n",
              "      <td>299.0</td>\n",
              "      <td>-243.0</td>\n",
              "      <td>-243.0</td>\n",
              "      <td>299.0</td>\n",
              "      <td>132.0</td>\n",
              "      <td>-12.40</td>\n",
              "      <td>9.53</td>\n",
              "      <td>9.53</td>\n",
              "      <td>-12.40</td>\n",
              "      <td>POSITIVE</td>\n",
              "    </tr>\n",
              "    <tr>\n",
              "      <th>4</th>\n",
              "      <td>28.30</td>\n",
              "      <td>31.3</td>\n",
              "      <td>45.2</td>\n",
              "      <td>27.3</td>\n",
              "      <td>24.5</td>\n",
              "      <td>34.800</td>\n",
              "      <td>-5.790</td>\n",
              "      <td>3.06</td>\n",
              "      <td>41.40</td>\n",
              "      <td>5.52</td>\n",
              "      <td>...</td>\n",
              "      <td>12.0</td>\n",
              "      <td>38.1</td>\n",
              "      <td>38.1</td>\n",
              "      <td>12.0</td>\n",
              "      <td>119.0</td>\n",
              "      <td>-17.60</td>\n",
              "      <td>23.90</td>\n",
              "      <td>23.90</td>\n",
              "      <td>-17.60</td>\n",
              "      <td>NEUTRAL</td>\n",
              "    </tr>\n",
              "  </tbody>\n",
              "</table>\n",
              "<p>5 rows × 2549 columns</p>\n",
              "</div>\n",
              "      <button class=\"colab-df-convert\" onclick=\"convertToInteractive('df-8a879c0e-f951-490a-a1f3-e6bef8e2aa3f')\"\n",
              "              title=\"Convert this dataframe to an interactive table.\"\n",
              "              style=\"display:none;\">\n",
              "        \n",
              "  <svg xmlns=\"http://www.w3.org/2000/svg\" height=\"24px\"viewBox=\"0 0 24 24\"\n",
              "       width=\"24px\">\n",
              "    <path d=\"M0 0h24v24H0V0z\" fill=\"none\"/>\n",
              "    <path d=\"M18.56 5.44l.94 2.06.94-2.06 2.06-.94-2.06-.94-.94-2.06-.94 2.06-2.06.94zm-11 1L8.5 8.5l.94-2.06 2.06-.94-2.06-.94L8.5 2.5l-.94 2.06-2.06.94zm10 10l.94 2.06.94-2.06 2.06-.94-2.06-.94-.94-2.06-.94 2.06-2.06.94z\"/><path d=\"M17.41 7.96l-1.37-1.37c-.4-.4-.92-.59-1.43-.59-.52 0-1.04.2-1.43.59L10.3 9.45l-7.72 7.72c-.78.78-.78 2.05 0 2.83L4 21.41c.39.39.9.59 1.41.59.51 0 1.02-.2 1.41-.59l7.78-7.78 2.81-2.81c.8-.78.8-2.07 0-2.86zM5.41 20L4 18.59l7.72-7.72 1.47 1.35L5.41 20z\"/>\n",
              "  </svg>\n",
              "      </button>\n",
              "      \n",
              "  <style>\n",
              "    .colab-df-container {\n",
              "      display:flex;\n",
              "      flex-wrap:wrap;\n",
              "      gap: 12px;\n",
              "    }\n",
              "\n",
              "    .colab-df-convert {\n",
              "      background-color: #E8F0FE;\n",
              "      border: none;\n",
              "      border-radius: 50%;\n",
              "      cursor: pointer;\n",
              "      display: none;\n",
              "      fill: #1967D2;\n",
              "      height: 32px;\n",
              "      padding: 0 0 0 0;\n",
              "      width: 32px;\n",
              "    }\n",
              "\n",
              "    .colab-df-convert:hover {\n",
              "      background-color: #E2EBFA;\n",
              "      box-shadow: 0px 1px 2px rgba(60, 64, 67, 0.3), 0px 1px 3px 1px rgba(60, 64, 67, 0.15);\n",
              "      fill: #174EA6;\n",
              "    }\n",
              "\n",
              "    [theme=dark] .colab-df-convert {\n",
              "      background-color: #3B4455;\n",
              "      fill: #D2E3FC;\n",
              "    }\n",
              "\n",
              "    [theme=dark] .colab-df-convert:hover {\n",
              "      background-color: #434B5C;\n",
              "      box-shadow: 0px 1px 3px 1px rgba(0, 0, 0, 0.15);\n",
              "      filter: drop-shadow(0px 1px 2px rgba(0, 0, 0, 0.3));\n",
              "      fill: #FFFFFF;\n",
              "    }\n",
              "  </style>\n",
              "\n",
              "      <script>\n",
              "        const buttonEl =\n",
              "          document.querySelector('#df-8a879c0e-f951-490a-a1f3-e6bef8e2aa3f button.colab-df-convert');\n",
              "        buttonEl.style.display =\n",
              "          google.colab.kernel.accessAllowed ? 'block' : 'none';\n",
              "\n",
              "        async function convertToInteractive(key) {\n",
              "          const element = document.querySelector('#df-8a879c0e-f951-490a-a1f3-e6bef8e2aa3f');\n",
              "          const dataTable =\n",
              "            await google.colab.kernel.invokeFunction('convertToInteractive',\n",
              "                                                     [key], {});\n",
              "          if (!dataTable) return;\n",
              "\n",
              "          const docLinkHtml = 'Like what you see? Visit the ' +\n",
              "            '<a target=\"_blank\" href=https://colab.research.google.com/notebooks/data_table.ipynb>data table notebook</a>'\n",
              "            + ' to learn more about interactive tables.';\n",
              "          element.innerHTML = '';\n",
              "          dataTable['output_type'] = 'display_data';\n",
              "          await google.colab.output.renderOutput(dataTable, element);\n",
              "          const docLink = document.createElement('div');\n",
              "          docLink.innerHTML = docLinkHtml;\n",
              "          element.appendChild(docLink);\n",
              "        }\n",
              "      </script>\n",
              "    </div>\n",
              "  </div>\n",
              "  "
            ]
          },
          "metadata": {},
          "execution_count": 2
        }
      ]
    },
    {
      "cell_type": "code",
      "source": [
        "df.tail(5)"
      ],
      "metadata": {
        "colab": {
          "base_uri": "https://localhost:8080/",
          "height": 317
        },
        "id": "qEJhBoaBVW65",
        "outputId": "05010144-ca7e-48bd-9c4c-dd27033d3c3f"
      },
      "execution_count": 3,
      "outputs": [
        {
          "output_type": "execute_result",
          "data": {
            "text/plain": [
              "      # mean_0_a  mean_1_a  mean_2_a  mean_3_a  mean_4_a  mean_d_0_a  \\\n",
              "2127      32.400      32.2      32.2     30.80      23.4        1.64   \n",
              "2128      16.300      31.3    -284.0     14.30      23.9        4.20   \n",
              "2129      -0.547      28.3    -259.0     15.80      26.7        9.08   \n",
              "2130      16.800      19.9    -288.0      8.34      26.0        2.46   \n",
              "2131      27.000      32.0      31.8     25.00      28.9        4.99   \n",
              "\n",
              "      mean_d_1_a  mean_d_2_a  mean_d_3_a  mean_d_4_a  ...  fft_741_b  \\\n",
              "2127       -2.03       0.647      -0.121       -1.10  ...     -21.70   \n",
              "2128        1.09       4.460       4.720        6.63  ...     594.00   \n",
              "2129        6.90      12.700       2.030        4.64  ...     370.00   \n",
              "2130        1.58     -16.000       1.690        4.74  ...     124.00   \n",
              "2131        1.95       6.210       3.490       -3.51  ...       1.95   \n",
              "\n",
              "      fft_742_b  fft_743_b  fft_744_b  fft_745_b  fft_746_b  fft_747_b  \\\n",
              "2127      0.218      0.218     -21.70       95.2     -19.90       47.2   \n",
              "2128   -324.000   -324.000     594.00      -35.5     142.00      -59.8   \n",
              "2129   -160.000   -160.000     370.00      408.0    -169.00      -10.5   \n",
              "2130    -27.600    -27.600     124.00     -656.0     552.00     -271.0   \n",
              "2131      1.810      1.810       1.95      110.0      -6.71       22.8   \n",
              "\n",
              "      fft_748_b  fft_749_b     label  \n",
              "2127       47.2     -19.90   NEUTRAL  \n",
              "2128      -59.8     142.00  POSITIVE  \n",
              "2129      -10.5    -169.00  NEGATIVE  \n",
              "2130     -271.0     552.00  NEGATIVE  \n",
              "2131       22.8      -6.71   NEUTRAL  \n",
              "\n",
              "[5 rows x 2549 columns]"
            ],
            "text/html": [
              "\n",
              "  <div id=\"df-87910e3f-0ed2-4712-a1a4-3fb53c8e3812\">\n",
              "    <div class=\"colab-df-container\">\n",
              "      <div>\n",
              "<style scoped>\n",
              "    .dataframe tbody tr th:only-of-type {\n",
              "        vertical-align: middle;\n",
              "    }\n",
              "\n",
              "    .dataframe tbody tr th {\n",
              "        vertical-align: top;\n",
              "    }\n",
              "\n",
              "    .dataframe thead th {\n",
              "        text-align: right;\n",
              "    }\n",
              "</style>\n",
              "<table border=\"1\" class=\"dataframe\">\n",
              "  <thead>\n",
              "    <tr style=\"text-align: right;\">\n",
              "      <th></th>\n",
              "      <th># mean_0_a</th>\n",
              "      <th>mean_1_a</th>\n",
              "      <th>mean_2_a</th>\n",
              "      <th>mean_3_a</th>\n",
              "      <th>mean_4_a</th>\n",
              "      <th>mean_d_0_a</th>\n",
              "      <th>mean_d_1_a</th>\n",
              "      <th>mean_d_2_a</th>\n",
              "      <th>mean_d_3_a</th>\n",
              "      <th>mean_d_4_a</th>\n",
              "      <th>...</th>\n",
              "      <th>fft_741_b</th>\n",
              "      <th>fft_742_b</th>\n",
              "      <th>fft_743_b</th>\n",
              "      <th>fft_744_b</th>\n",
              "      <th>fft_745_b</th>\n",
              "      <th>fft_746_b</th>\n",
              "      <th>fft_747_b</th>\n",
              "      <th>fft_748_b</th>\n",
              "      <th>fft_749_b</th>\n",
              "      <th>label</th>\n",
              "    </tr>\n",
              "  </thead>\n",
              "  <tbody>\n",
              "    <tr>\n",
              "      <th>2127</th>\n",
              "      <td>32.400</td>\n",
              "      <td>32.2</td>\n",
              "      <td>32.2</td>\n",
              "      <td>30.80</td>\n",
              "      <td>23.4</td>\n",
              "      <td>1.64</td>\n",
              "      <td>-2.03</td>\n",
              "      <td>0.647</td>\n",
              "      <td>-0.121</td>\n",
              "      <td>-1.10</td>\n",
              "      <td>...</td>\n",
              "      <td>-21.70</td>\n",
              "      <td>0.218</td>\n",
              "      <td>0.218</td>\n",
              "      <td>-21.70</td>\n",
              "      <td>95.2</td>\n",
              "      <td>-19.90</td>\n",
              "      <td>47.2</td>\n",
              "      <td>47.2</td>\n",
              "      <td>-19.90</td>\n",
              "      <td>NEUTRAL</td>\n",
              "    </tr>\n",
              "    <tr>\n",
              "      <th>2128</th>\n",
              "      <td>16.300</td>\n",
              "      <td>31.3</td>\n",
              "      <td>-284.0</td>\n",
              "      <td>14.30</td>\n",
              "      <td>23.9</td>\n",
              "      <td>4.20</td>\n",
              "      <td>1.09</td>\n",
              "      <td>4.460</td>\n",
              "      <td>4.720</td>\n",
              "      <td>6.63</td>\n",
              "      <td>...</td>\n",
              "      <td>594.00</td>\n",
              "      <td>-324.000</td>\n",
              "      <td>-324.000</td>\n",
              "      <td>594.00</td>\n",
              "      <td>-35.5</td>\n",
              "      <td>142.00</td>\n",
              "      <td>-59.8</td>\n",
              "      <td>-59.8</td>\n",
              "      <td>142.00</td>\n",
              "      <td>POSITIVE</td>\n",
              "    </tr>\n",
              "    <tr>\n",
              "      <th>2129</th>\n",
              "      <td>-0.547</td>\n",
              "      <td>28.3</td>\n",
              "      <td>-259.0</td>\n",
              "      <td>15.80</td>\n",
              "      <td>26.7</td>\n",
              "      <td>9.08</td>\n",
              "      <td>6.90</td>\n",
              "      <td>12.700</td>\n",
              "      <td>2.030</td>\n",
              "      <td>4.64</td>\n",
              "      <td>...</td>\n",
              "      <td>370.00</td>\n",
              "      <td>-160.000</td>\n",
              "      <td>-160.000</td>\n",
              "      <td>370.00</td>\n",
              "      <td>408.0</td>\n",
              "      <td>-169.00</td>\n",
              "      <td>-10.5</td>\n",
              "      <td>-10.5</td>\n",
              "      <td>-169.00</td>\n",
              "      <td>NEGATIVE</td>\n",
              "    </tr>\n",
              "    <tr>\n",
              "      <th>2130</th>\n",
              "      <td>16.800</td>\n",
              "      <td>19.9</td>\n",
              "      <td>-288.0</td>\n",
              "      <td>8.34</td>\n",
              "      <td>26.0</td>\n",
              "      <td>2.46</td>\n",
              "      <td>1.58</td>\n",
              "      <td>-16.000</td>\n",
              "      <td>1.690</td>\n",
              "      <td>4.74</td>\n",
              "      <td>...</td>\n",
              "      <td>124.00</td>\n",
              "      <td>-27.600</td>\n",
              "      <td>-27.600</td>\n",
              "      <td>124.00</td>\n",
              "      <td>-656.0</td>\n",
              "      <td>552.00</td>\n",
              "      <td>-271.0</td>\n",
              "      <td>-271.0</td>\n",
              "      <td>552.00</td>\n",
              "      <td>NEGATIVE</td>\n",
              "    </tr>\n",
              "    <tr>\n",
              "      <th>2131</th>\n",
              "      <td>27.000</td>\n",
              "      <td>32.0</td>\n",
              "      <td>31.8</td>\n",
              "      <td>25.00</td>\n",
              "      <td>28.9</td>\n",
              "      <td>4.99</td>\n",
              "      <td>1.95</td>\n",
              "      <td>6.210</td>\n",
              "      <td>3.490</td>\n",
              "      <td>-3.51</td>\n",
              "      <td>...</td>\n",
              "      <td>1.95</td>\n",
              "      <td>1.810</td>\n",
              "      <td>1.810</td>\n",
              "      <td>1.95</td>\n",
              "      <td>110.0</td>\n",
              "      <td>-6.71</td>\n",
              "      <td>22.8</td>\n",
              "      <td>22.8</td>\n",
              "      <td>-6.71</td>\n",
              "      <td>NEUTRAL</td>\n",
              "    </tr>\n",
              "  </tbody>\n",
              "</table>\n",
              "<p>5 rows × 2549 columns</p>\n",
              "</div>\n",
              "      <button class=\"colab-df-convert\" onclick=\"convertToInteractive('df-87910e3f-0ed2-4712-a1a4-3fb53c8e3812')\"\n",
              "              title=\"Convert this dataframe to an interactive table.\"\n",
              "              style=\"display:none;\">\n",
              "        \n",
              "  <svg xmlns=\"http://www.w3.org/2000/svg\" height=\"24px\"viewBox=\"0 0 24 24\"\n",
              "       width=\"24px\">\n",
              "    <path d=\"M0 0h24v24H0V0z\" fill=\"none\"/>\n",
              "    <path d=\"M18.56 5.44l.94 2.06.94-2.06 2.06-.94-2.06-.94-.94-2.06-.94 2.06-2.06.94zm-11 1L8.5 8.5l.94-2.06 2.06-.94-2.06-.94L8.5 2.5l-.94 2.06-2.06.94zm10 10l.94 2.06.94-2.06 2.06-.94-2.06-.94-.94-2.06-.94 2.06-2.06.94z\"/><path d=\"M17.41 7.96l-1.37-1.37c-.4-.4-.92-.59-1.43-.59-.52 0-1.04.2-1.43.59L10.3 9.45l-7.72 7.72c-.78.78-.78 2.05 0 2.83L4 21.41c.39.39.9.59 1.41.59.51 0 1.02-.2 1.41-.59l7.78-7.78 2.81-2.81c.8-.78.8-2.07 0-2.86zM5.41 20L4 18.59l7.72-7.72 1.47 1.35L5.41 20z\"/>\n",
              "  </svg>\n",
              "      </button>\n",
              "      \n",
              "  <style>\n",
              "    .colab-df-container {\n",
              "      display:flex;\n",
              "      flex-wrap:wrap;\n",
              "      gap: 12px;\n",
              "    }\n",
              "\n",
              "    .colab-df-convert {\n",
              "      background-color: #E8F0FE;\n",
              "      border: none;\n",
              "      border-radius: 50%;\n",
              "      cursor: pointer;\n",
              "      display: none;\n",
              "      fill: #1967D2;\n",
              "      height: 32px;\n",
              "      padding: 0 0 0 0;\n",
              "      width: 32px;\n",
              "    }\n",
              "\n",
              "    .colab-df-convert:hover {\n",
              "      background-color: #E2EBFA;\n",
              "      box-shadow: 0px 1px 2px rgba(60, 64, 67, 0.3), 0px 1px 3px 1px rgba(60, 64, 67, 0.15);\n",
              "      fill: #174EA6;\n",
              "    }\n",
              "\n",
              "    [theme=dark] .colab-df-convert {\n",
              "      background-color: #3B4455;\n",
              "      fill: #D2E3FC;\n",
              "    }\n",
              "\n",
              "    [theme=dark] .colab-df-convert:hover {\n",
              "      background-color: #434B5C;\n",
              "      box-shadow: 0px 1px 3px 1px rgba(0, 0, 0, 0.15);\n",
              "      filter: drop-shadow(0px 1px 2px rgba(0, 0, 0, 0.3));\n",
              "      fill: #FFFFFF;\n",
              "    }\n",
              "  </style>\n",
              "\n",
              "      <script>\n",
              "        const buttonEl =\n",
              "          document.querySelector('#df-87910e3f-0ed2-4712-a1a4-3fb53c8e3812 button.colab-df-convert');\n",
              "        buttonEl.style.display =\n",
              "          google.colab.kernel.accessAllowed ? 'block' : 'none';\n",
              "\n",
              "        async function convertToInteractive(key) {\n",
              "          const element = document.querySelector('#df-87910e3f-0ed2-4712-a1a4-3fb53c8e3812');\n",
              "          const dataTable =\n",
              "            await google.colab.kernel.invokeFunction('convertToInteractive',\n",
              "                                                     [key], {});\n",
              "          if (!dataTable) return;\n",
              "\n",
              "          const docLinkHtml = 'Like what you see? Visit the ' +\n",
              "            '<a target=\"_blank\" href=https://colab.research.google.com/notebooks/data_table.ipynb>data table notebook</a>'\n",
              "            + ' to learn more about interactive tables.';\n",
              "          element.innerHTML = '';\n",
              "          dataTable['output_type'] = 'display_data';\n",
              "          await google.colab.output.renderOutput(dataTable, element);\n",
              "          const docLink = document.createElement('div');\n",
              "          docLink.innerHTML = docLinkHtml;\n",
              "          element.appendChild(docLink);\n",
              "        }\n",
              "      </script>\n",
              "    </div>\n",
              "  </div>\n",
              "  "
            ]
          },
          "metadata": {},
          "execution_count": 3
        }
      ]
    },
    {
      "cell_type": "code",
      "source": [
        "# sample column\n",
        "df.sample()"
      ],
      "metadata": {
        "colab": {
          "base_uri": "https://localhost:8080/",
          "height": 191
        },
        "id": "cGDN68QBkONp",
        "outputId": "0c5db2cc-2b3e-4043-d18c-f5a2375acace"
      },
      "execution_count": 4,
      "outputs": [
        {
          "output_type": "execute_result",
          "data": {
            "text/plain": [
              "     # mean_0_a  mean_1_a  mean_2_a  mean_3_a  mean_4_a  mean_d_0_a  \\\n",
              "105        7.51      28.7      17.6      2.36      21.5       -1.49   \n",
              "\n",
              "     mean_d_1_a  mean_d_2_a  mean_d_3_a  mean_d_4_a  ...  fft_741_b  \\\n",
              "105        0.26       -5.43      0.0817       0.187  ...       21.8   \n",
              "\n",
              "     fft_742_b  fft_743_b  fft_744_b  fft_745_b  fft_746_b  fft_747_b  \\\n",
              "105       7.02       7.02       21.8     -0.789      -18.2      -1.34   \n",
              "\n",
              "     fft_748_b  fft_749_b     label  \n",
              "105      -1.34      -18.2  POSITIVE  \n",
              "\n",
              "[1 rows x 2549 columns]"
            ],
            "text/html": [
              "\n",
              "  <div id=\"df-e9396cb6-6d13-47f0-b09b-1b1853572b46\">\n",
              "    <div class=\"colab-df-container\">\n",
              "      <div>\n",
              "<style scoped>\n",
              "    .dataframe tbody tr th:only-of-type {\n",
              "        vertical-align: middle;\n",
              "    }\n",
              "\n",
              "    .dataframe tbody tr th {\n",
              "        vertical-align: top;\n",
              "    }\n",
              "\n",
              "    .dataframe thead th {\n",
              "        text-align: right;\n",
              "    }\n",
              "</style>\n",
              "<table border=\"1\" class=\"dataframe\">\n",
              "  <thead>\n",
              "    <tr style=\"text-align: right;\">\n",
              "      <th></th>\n",
              "      <th># mean_0_a</th>\n",
              "      <th>mean_1_a</th>\n",
              "      <th>mean_2_a</th>\n",
              "      <th>mean_3_a</th>\n",
              "      <th>mean_4_a</th>\n",
              "      <th>mean_d_0_a</th>\n",
              "      <th>mean_d_1_a</th>\n",
              "      <th>mean_d_2_a</th>\n",
              "      <th>mean_d_3_a</th>\n",
              "      <th>mean_d_4_a</th>\n",
              "      <th>...</th>\n",
              "      <th>fft_741_b</th>\n",
              "      <th>fft_742_b</th>\n",
              "      <th>fft_743_b</th>\n",
              "      <th>fft_744_b</th>\n",
              "      <th>fft_745_b</th>\n",
              "      <th>fft_746_b</th>\n",
              "      <th>fft_747_b</th>\n",
              "      <th>fft_748_b</th>\n",
              "      <th>fft_749_b</th>\n",
              "      <th>label</th>\n",
              "    </tr>\n",
              "  </thead>\n",
              "  <tbody>\n",
              "    <tr>\n",
              "      <th>105</th>\n",
              "      <td>7.51</td>\n",
              "      <td>28.7</td>\n",
              "      <td>17.6</td>\n",
              "      <td>2.36</td>\n",
              "      <td>21.5</td>\n",
              "      <td>-1.49</td>\n",
              "      <td>0.26</td>\n",
              "      <td>-5.43</td>\n",
              "      <td>0.0817</td>\n",
              "      <td>0.187</td>\n",
              "      <td>...</td>\n",
              "      <td>21.8</td>\n",
              "      <td>7.02</td>\n",
              "      <td>7.02</td>\n",
              "      <td>21.8</td>\n",
              "      <td>-0.789</td>\n",
              "      <td>-18.2</td>\n",
              "      <td>-1.34</td>\n",
              "      <td>-1.34</td>\n",
              "      <td>-18.2</td>\n",
              "      <td>POSITIVE</td>\n",
              "    </tr>\n",
              "  </tbody>\n",
              "</table>\n",
              "<p>1 rows × 2549 columns</p>\n",
              "</div>\n",
              "      <button class=\"colab-df-convert\" onclick=\"convertToInteractive('df-e9396cb6-6d13-47f0-b09b-1b1853572b46')\"\n",
              "              title=\"Convert this dataframe to an interactive table.\"\n",
              "              style=\"display:none;\">\n",
              "        \n",
              "  <svg xmlns=\"http://www.w3.org/2000/svg\" height=\"24px\"viewBox=\"0 0 24 24\"\n",
              "       width=\"24px\">\n",
              "    <path d=\"M0 0h24v24H0V0z\" fill=\"none\"/>\n",
              "    <path d=\"M18.56 5.44l.94 2.06.94-2.06 2.06-.94-2.06-.94-.94-2.06-.94 2.06-2.06.94zm-11 1L8.5 8.5l.94-2.06 2.06-.94-2.06-.94L8.5 2.5l-.94 2.06-2.06.94zm10 10l.94 2.06.94-2.06 2.06-.94-2.06-.94-.94-2.06-.94 2.06-2.06.94z\"/><path d=\"M17.41 7.96l-1.37-1.37c-.4-.4-.92-.59-1.43-.59-.52 0-1.04.2-1.43.59L10.3 9.45l-7.72 7.72c-.78.78-.78 2.05 0 2.83L4 21.41c.39.39.9.59 1.41.59.51 0 1.02-.2 1.41-.59l7.78-7.78 2.81-2.81c.8-.78.8-2.07 0-2.86zM5.41 20L4 18.59l7.72-7.72 1.47 1.35L5.41 20z\"/>\n",
              "  </svg>\n",
              "      </button>\n",
              "      \n",
              "  <style>\n",
              "    .colab-df-container {\n",
              "      display:flex;\n",
              "      flex-wrap:wrap;\n",
              "      gap: 12px;\n",
              "    }\n",
              "\n",
              "    .colab-df-convert {\n",
              "      background-color: #E8F0FE;\n",
              "      border: none;\n",
              "      border-radius: 50%;\n",
              "      cursor: pointer;\n",
              "      display: none;\n",
              "      fill: #1967D2;\n",
              "      height: 32px;\n",
              "      padding: 0 0 0 0;\n",
              "      width: 32px;\n",
              "    }\n",
              "\n",
              "    .colab-df-convert:hover {\n",
              "      background-color: #E2EBFA;\n",
              "      box-shadow: 0px 1px 2px rgba(60, 64, 67, 0.3), 0px 1px 3px 1px rgba(60, 64, 67, 0.15);\n",
              "      fill: #174EA6;\n",
              "    }\n",
              "\n",
              "    [theme=dark] .colab-df-convert {\n",
              "      background-color: #3B4455;\n",
              "      fill: #D2E3FC;\n",
              "    }\n",
              "\n",
              "    [theme=dark] .colab-df-convert:hover {\n",
              "      background-color: #434B5C;\n",
              "      box-shadow: 0px 1px 3px 1px rgba(0, 0, 0, 0.15);\n",
              "      filter: drop-shadow(0px 1px 2px rgba(0, 0, 0, 0.3));\n",
              "      fill: #FFFFFF;\n",
              "    }\n",
              "  </style>\n",
              "\n",
              "      <script>\n",
              "        const buttonEl =\n",
              "          document.querySelector('#df-e9396cb6-6d13-47f0-b09b-1b1853572b46 button.colab-df-convert');\n",
              "        buttonEl.style.display =\n",
              "          google.colab.kernel.accessAllowed ? 'block' : 'none';\n",
              "\n",
              "        async function convertToInteractive(key) {\n",
              "          const element = document.querySelector('#df-e9396cb6-6d13-47f0-b09b-1b1853572b46');\n",
              "          const dataTable =\n",
              "            await google.colab.kernel.invokeFunction('convertToInteractive',\n",
              "                                                     [key], {});\n",
              "          if (!dataTable) return;\n",
              "\n",
              "          const docLinkHtml = 'Like what you see? Visit the ' +\n",
              "            '<a target=\"_blank\" href=https://colab.research.google.com/notebooks/data_table.ipynb>data table notebook</a>'\n",
              "            + ' to learn more about interactive tables.';\n",
              "          element.innerHTML = '';\n",
              "          dataTable['output_type'] = 'display_data';\n",
              "          await google.colab.output.renderOutput(dataTable, element);\n",
              "          const docLink = document.createElement('div');\n",
              "          docLink.innerHTML = docLinkHtml;\n",
              "          element.appendChild(docLink);\n",
              "        }\n",
              "      </script>\n",
              "    </div>\n",
              "  </div>\n",
              "  "
            ]
          },
          "metadata": {},
          "execution_count": 4
        }
      ]
    },
    {
      "cell_type": "code",
      "source": [
        "# data size\n",
        "df.shape"
      ],
      "metadata": {
        "colab": {
          "base_uri": "https://localhost:8080/"
        },
        "id": "dKIRnWWmY6dS",
        "outputId": "79ab8024-7e26-4d1b-87d9-7b9dc66ef688"
      },
      "execution_count": 5,
      "outputs": [
        {
          "output_type": "execute_result",
          "data": {
            "text/plain": [
              "(2132, 2549)"
            ]
          },
          "metadata": {},
          "execution_count": 5
        }
      ]
    },
    {
      "cell_type": "markdown",
      "source": [
        "no of observations = 1004no of features = 2549"
      ],
      "metadata": {
        "id": "0QRCa0bRZNng"
      }
    },
    {
      "cell_type": "code",
      "source": [
        "# plot the data \n",
        "data = df.loc[10, 'fft_0_b':'fft_749_b']\n",
        "plt.figure(figsize=(20, 10))\n",
        "plt.plot(range(len(data)), data)\n",
        "plt.title('Feautures')\n",
        "plt.show()"
      ],
      "metadata": {
        "colab": {
          "base_uri": "https://localhost:8080/",
          "height": 607
        },
        "id": "KWKh-D-GW9ZJ",
        "outputId": "c21091b7-5f74-4af1-9f82-182d76afc7ee"
      },
      "execution_count": 6,
      "outputs": [
        {
          "output_type": "display_data",
          "data": {
            "text/plain": [
              "<Figure size 1440x720 with 1 Axes>"
            ],
            "image/png": "[encoded data removed]"
          },
          "metadata": {
            "needs_background": "light"
          }
        }
      ]
    },
    {
      "cell_type": "code",
      "source": [
        "# check for imbalance\n",
        "\n",
        "df['label'].value_counts()"
      ],
      "metadata": {
        "colab": {
          "base_uri": "https://localhost:8080/"
        },
        "id": "ZHjLEjaaZ9p_",
        "outputId": "67ab2647-e85a-4948-ecda-33131a5d2d2d"
      },
      "execution_count": 7,
      "outputs": [
        {
          "output_type": "execute_result",
          "data": {
            "text/plain": [
              "NEUTRAL     716\n",
              "NEGATIVE    708\n",
              "POSITIVE    708\n",
              "Name: label, dtype: int64"
            ]
          },
          "metadata": {},
          "execution_count": 7
        }
      ]
    },
    {
      "cell_type": "markdown",
      "source": [
        "data is fairly balanced"
      ],
      "metadata": {
        "id": "n6P1hZmYaLnG"
      }
    },
    {
      "cell_type": "code",
      "source": [
        "# enumarate the data\n",
        "\n",
        "# create a dictionary\n",
        "\n",
        "label_dict = {'NEGATIVE': 0, 'NEUTRAL': 1, 'POSITIVE': 2}"
      ],
      "metadata": {
        "id": "KXYBXE8KaPsl"
      },
      "execution_count": 8,
      "outputs": []
    },
    {
      "cell_type": "code",
      "source": [
        "# change the values\n",
        "\n",
        "df['label'] = df['label'].replace(label_dict)"
      ],
      "metadata": {
        "id": "imIfiAI1iYw6"
      },
      "execution_count": 9,
      "outputs": []
    },
    {
      "cell_type": "code",
      "source": [
        "df.head()"
      ],
      "metadata": {
        "colab": {
          "base_uri": "https://localhost:8080/",
          "height": 317
        },
        "id": "TuZeREeqjrtJ",
        "outputId": "85f50cdd-bf80-4da3-d3de-65b3eef79e5d"
      },
      "execution_count": 10,
      "outputs": [
        {
          "output_type": "execute_result",
          "data": {
            "text/plain": [
              "   # mean_0_a  mean_1_a  mean_2_a  mean_3_a  mean_4_a  mean_d_0_a  mean_d_1_a  \\\n",
              "0        4.62      30.3    -356.0      15.6      26.3       1.070       0.411   \n",
              "1       28.80      33.1      32.0      25.8      22.8       6.550       1.680   \n",
              "2        8.90      29.4    -416.0      16.7      23.7      79.900       3.360   \n",
              "3       14.90      31.6    -143.0      19.8      24.3      -0.584      -0.284   \n",
              "4       28.30      31.3      45.2      27.3      24.5      34.800      -5.790   \n",
              "\n",
              "   mean_d_2_a  mean_d_3_a  mean_d_4_a  ...  fft_741_b  fft_742_b  fft_743_b  \\\n",
              "0      -15.70        2.06        3.15  ...       23.5       20.3       20.3   \n",
              "1        2.88        3.83       -4.82  ...      -23.3      -21.8      -21.8   \n",
              "2       90.20       89.90        2.03  ...      462.0     -233.0     -233.0   \n",
              "3        8.82        2.30       -1.97  ...      299.0     -243.0     -243.0   \n",
              "4        3.06       41.40        5.52  ...       12.0       38.1       38.1   \n",
              "\n",
              "   fft_744_b  fft_745_b  fft_746_b  fft_747_b  fft_748_b  fft_749_b  label  \n",
              "0       23.5     -215.0     280.00    -162.00    -162.00     280.00      0  \n",
              "1      -23.3      182.0       2.57     -31.60     -31.60       2.57      1  \n",
              "2      462.0     -267.0     281.00    -148.00    -148.00     281.00      2  \n",
              "3      299.0      132.0     -12.40       9.53       9.53     -12.40      2  \n",
              "4       12.0      119.0     -17.60      23.90      23.90     -17.60      1  \n",
              "\n",
              "[5 rows x 2549 columns]"
            ],
            "text/html": [
              "\n",
              "  <div id=\"df-df8fab65-b482-40e6-9a39-cfb6a649a85c\">\n",
              "    <div class=\"colab-df-container\">\n",
              "      <div>\n",
              "<style scoped>\n",
              "    .dataframe tbody tr th:only-of-type {\n",
              "        vertical-align: middle;\n",
              "    }\n",
              "\n",
              "    .dataframe tbody tr th {\n",
              "        vertical-align: top;\n",
              "    }\n",
              "\n",
              "    .dataframe thead th {\n",
              "        text-align: right;\n",
              "    }\n",
              "</style>\n",
              "<table border=\"1\" class=\"dataframe\">\n",
              "  <thead>\n",
              "    <tr style=\"text-align: right;\">\n",
              "      <th></th>\n",
              "      <th># mean_0_a</th>\n",
              "      <th>mean_1_a</th>\n",
              "      <th>mean_2_a</th>\n",
              "      <th>mean_3_a</th>\n",
              "      <th>mean_4_a</th>\n",
              "      <th>mean_d_0_a</th>\n",
              "      <th>mean_d_1_a</th>\n",
              "      <th>mean_d_2_a</th>\n",
              "      <th>mean_d_3_a</th>\n",
              "      <th>mean_d_4_a</th>\n",
              "      <th>...</th>\n",
              "      <th>fft_741_b</th>\n",
              "      <th>fft_742_b</th>\n",
              "      <th>fft_743_b</th>\n",
              "      <th>fft_744_b</th>\n",
              "      <th>fft_745_b</th>\n",
              "      <th>fft_746_b</th>\n",
              "      <th>fft_747_b</th>\n",
              "      <th>fft_748_b</th>\n",
              "      <th>fft_749_b</th>\n",
              "      <th>label</th>\n",
              "    </tr>\n",
              "  </thead>\n",
              "  <tbody>\n",
              "    <tr>\n",
              "      <th>0</th>\n",
              "      <td>4.62</td>\n",
              "      <td>30.3</td>\n",
              "      <td>-356.0</td>\n",
              "      <td>15.6</td>\n",
              "      <td>26.3</td>\n",
              "      <td>1.070</td>\n",
              "      <td>0.411</td>\n",
              "      <td>-15.70</td>\n",
              "      <td>2.06</td>\n",
              "      <td>3.15</td>\n",
              "      <td>...</td>\n",
              "      <td>23.5</td>\n",
              "      <td>20.3</td>\n",
              "      <td>20.3</td>\n",
              "      <td>23.5</td>\n",
              "      <td>-215.0</td>\n",
              "      <td>280.00</td>\n",
              "      <td>-162.00</td>\n",
              "      <td>-162.00</td>\n",
              "      <td>280.00</td>\n",
              "      <td>0</td>\n",
              "    </tr>\n",
              "    <tr>\n",
              "      <th>1</th>\n",
              "      <td>28.80</td>\n",
              "      <td>33.1</td>\n",
              "      <td>32.0</td>\n",
              "      <td>25.8</td>\n",
              "      <td>22.8</td>\n",
              "      <td>6.550</td>\n",
              "      <td>1.680</td>\n",
              "      <td>2.88</td>\n",
              "      <td>3.83</td>\n",
              "      <td>-4.82</td>\n",
              "      <td>...</td>\n",
              "      <td>-23.3</td>\n",
              "      <td>-21.8</td>\n",
              "      <td>-21.8</td>\n",
              "      <td>-23.3</td>\n",
              "      <td>182.0</td>\n",
              "      <td>2.57</td>\n",
              "      <td>-31.60</td>\n",
              "      <td>-31.60</td>\n",
              "      <td>2.57</td>\n",
              "      <td>1</td>\n",
              "    </tr>\n",
              "    <tr>\n",
              "      <th>2</th>\n",
              "      <td>8.90</td>\n",
              "      <td>29.4</td>\n",
              "      <td>-416.0</td>\n",
              "      <td>16.7</td>\n",
              "      <td>23.7</td>\n",
              "      <td>79.900</td>\n",
              "      <td>3.360</td>\n",
              "      <td>90.20</td>\n",
              "      <td>89.90</td>\n",
              "      <td>2.03</td>\n",
              "      <td>...</td>\n",
              "      <td>462.0</td>\n",
              "      <td>-233.0</td>\n",
              "      <td>-233.0</td>\n",
              "      <td>462.0</td>\n",
              "      <td>-267.0</td>\n",
              "      <td>281.00</td>\n",
              "      <td>-148.00</td>\n",
              "      <td>-148.00</td>\n",
              "      <td>281.00</td>\n",
              "      <td>2</td>\n",
              "    </tr>\n",
              "    <tr>\n",
              "      <th>3</th>\n",
              "      <td>14.90</td>\n",
              "      <td>31.6</td>\n",
              "      <td>-143.0</td>\n",
              "      <td>19.8</td>\n",
              "      <td>24.3</td>\n",
              "      <td>-0.584</td>\n",
              "      <td>-0.284</td>\n",
              "      <td>8.82</td>\n",
              "      <td>2.30</td>\n",
              "      <td>-1.97</td>\n",
              "      <td>...</td>\n",
              "      <td>299.0</td>\n",
              "      <td>-243.0</td>\n",
              "      <td>-243.0</td>\n",
              "      <td>299.0</td>\n",
              "      <td>132.0</td>\n",
              "      <td>-12.40</td>\n",
              "      <td>9.53</td>\n",
              "      <td>9.53</td>\n",
              "      <td>-12.40</td>\n",
              "      <td>2</td>\n",
              "    </tr>\n",
              "    <tr>\n",
              "      <th>4</th>\n",
              "      <td>28.30</td>\n",
              "      <td>31.3</td>\n",
              "      <td>45.2</td>\n",
              "      <td>27.3</td>\n",
              "      <td>24.5</td>\n",
              "      <td>34.800</td>\n",
              "      <td>-5.790</td>\n",
              "      <td>3.06</td>\n",
              "      <td>41.40</td>\n",
              "      <td>5.52</td>\n",
              "      <td>...</td>\n",
              "      <td>12.0</td>\n",
              "      <td>38.1</td>\n",
              "      <td>38.1</td>\n",
              "      <td>12.0</td>\n",
              "      <td>119.0</td>\n",
              "      <td>-17.60</td>\n",
              "      <td>23.90</td>\n",
              "      <td>23.90</td>\n",
              "      <td>-17.60</td>\n",
              "      <td>1</td>\n",
              "    </tr>\n",
              "  </tbody>\n",
              "</table>\n",
              "<p>5 rows × 2549 columns</p>\n",
              "</div>\n",
              "      <button class=\"colab-df-convert\" onclick=\"convertToInteractive('df-df8fab65-b482-40e6-9a39-cfb6a649a85c')\"\n",
              "              title=\"Convert this dataframe to an interactive table.\"\n",
              "              style=\"display:none;\">\n",
              "        \n",
              "  <svg xmlns=\"http://www.w3.org/2000/svg\" height=\"24px\"viewBox=\"0 0 24 24\"\n",
              "       width=\"24px\">\n",
              "    <path d=\"M0 0h24v24H0V0z\" fill=\"none\"/>\n",
              "    <path d=\"M18.56 5.44l.94 2.06.94-2.06 2.06-.94-2.06-.94-.94-2.06-.94 2.06-2.06.94zm-11 1L8.5 8.5l.94-2.06 2.06-.94-2.06-.94L8.5 2.5l-.94 2.06-2.06.94zm10 10l.94 2.06.94-2.06 2.06-.94-2.06-.94-.94-2.06-.94 2.06-2.06.94z\"/><path d=\"M17.41 7.96l-1.37-1.37c-.4-.4-.92-.59-1.43-.59-.52 0-1.04.2-1.43.59L10.3 9.45l-7.72 7.72c-.78.78-.78 2.05 0 2.83L4 21.41c.39.39.9.59 1.41.59.51 0 1.02-.2 1.41-.59l7.78-7.78 2.81-2.81c.8-.78.8-2.07 0-2.86zM5.41 20L4 18.59l7.72-7.72 1.47 1.35L5.41 20z\"/>\n",
              "  </svg>\n",
              "      </button>\n",
              "      \n",
              "  <style>\n",
              "    .colab-df-container {\n",
              "      display:flex;\n",
              "      flex-wrap:wrap;\n",
              "      gap: 12px;\n",
              "    }\n",
              "\n",
              "    .colab-df-convert {\n",
              "      background-color: #E8F0FE;\n",
              "      border: none;\n",
              "      border-radius: 50%;\n",
              "      cursor: pointer;\n",
              "      display: none;\n",
              "      fill: #1967D2;\n",
              "      height: 32px;\n",
              "      padding: 0 0 0 0;\n",
              "      width: 32px;\n",
              "    }\n",
              "\n",
              "    .colab-df-convert:hover {\n",
              "      background-color: #E2EBFA;\n",
              "      box-shadow: 0px 1px 2px rgba(60, 64, 67, 0.3), 0px 1px 3px 1px rgba(60, 64, 67, 0.15);\n",
              "      fill: #174EA6;\n",
              "    }\n",
              "\n",
              "    [theme=dark] .colab-df-convert {\n",
              "      background-color: #3B4455;\n",
              "      fill: #D2E3FC;\n",
              "    }\n",
              "\n",
              "    [theme=dark] .colab-df-convert:hover {\n",
              "      background-color: #434B5C;\n",
              "      box-shadow: 0px 1px 3px 1px rgba(0, 0, 0, 0.15);\n",
              "      filter: drop-shadow(0px 1px 2px rgba(0, 0, 0, 0.3));\n",
              "      fill: #FFFFFF;\n",
              "    }\n",
              "  </style>\n",
              "\n",
              "      <script>\n",
              "        const buttonEl =\n",
              "          document.querySelector('#df-df8fab65-b482-40e6-9a39-cfb6a649a85c button.colab-df-convert');\n",
              "        buttonEl.style.display =\n",
              "          google.colab.kernel.accessAllowed ? 'block' : 'none';\n",
              "\n",
              "        async function convertToInteractive(key) {\n",
              "          const element = document.querySelector('#df-df8fab65-b482-40e6-9a39-cfb6a649a85c');\n",
              "          const dataTable =\n",
              "            await google.colab.kernel.invokeFunction('convertToInteractive',\n",
              "                                                     [key], {});\n",
              "          if (!dataTable) return;\n",
              "\n",
              "          const docLinkHtml = 'Like what you see? Visit the ' +\n",
              "            '<a target=\"_blank\" href=https://colab.research.google.com/notebooks/data_table.ipynb>data table notebook</a>'\n",
              "            + ' to learn more about interactive tables.';\n",
              "          element.innerHTML = '';\n",
              "          dataTable['output_type'] = 'display_data';\n",
              "          await google.colab.output.renderOutput(dataTable, element);\n",
              "          const docLink = document.createElement('div');\n",
              "          docLink.innerHTML = docLinkHtml;\n",
              "          element.appendChild(docLink);\n",
              "        }\n",
              "      </script>\n",
              "    </div>\n",
              "  </div>\n",
              "  "
            ]
          },
          "metadata": {},
          "execution_count": 10
        }
      ]
    },
    {
      "cell_type": "code",
      "source": [
        "# separate data and labels\n",
        "\n",
        "X = df.drop('label', axis = 1)\n",
        "y = df['label']"
      ],
      "metadata": {
        "id": "XchujJvmmYTh"
      },
      "execution_count": 11,
      "outputs": []
    },
    {
      "cell_type": "code",
      "source": [
        "# train test split\n",
        "\n",
        "X_train, X_test, y_train, y_test = train_test_split(X, y, random_state = 3, test_size = 0.2)"
      ],
      "metadata": {
        "id": "JsNRA4aqm9cQ"
      },
      "execution_count": 12,
      "outputs": []
    },
    {
      "cell_type": "code",
      "source": [
        "print(X_train.shape)\n",
        "print(X_test.shape)\n",
        "print(y_train.shape)\n",
        "print(y_test.shape)"
      ],
      "metadata": {
        "colab": {
          "base_uri": "https://localhost:8080/"
        },
        "id": "YvFMFt-AyM6i",
        "outputId": "a0482861-0b1e-4ff3-a612-b489b583b265"
      },
      "execution_count": 13,
      "outputs": [
        {
          "output_type": "stream",
          "name": "stdout",
          "text": [
            "(1705, 2548)\n",
            "(427, 2548)\n",
            "(1705,)\n",
            "(427,)\n"
          ]
        }
      ]
    },
    {
      "cell_type": "markdown",
      "source": [
        "## Create the RNN model"
      ],
      "metadata": {
        "id": "X5NXGq0mzcYG"
      }
    },
    {
      "cell_type": "code",
      "source": [
        "# import libraries\n",
        "\n",
        "import tensorflow as tf\n",
        "from tensorflow import keras\n",
        "\n",
        "from keras import layers, Model"
      ],
      "metadata": {
        "id": "r9lSJa6JycJi"
      },
      "execution_count": 14,
      "outputs": []
    },
    {
      "cell_type": "code",
      "source": [
        "# stack the layers\n",
        "\n",
        "input_layer = layers.Input(shape=(X_train.shape[1],))\n",
        "\n",
        "expand_dims = tf.expand_dims(input_layer, axis=2)\n",
        "gru = layers.GRU(256, return_sequences=True)(expand_dims)\n",
        "\n",
        "flatten = layers.Flatten()(gru)\n",
        "output_layer = layers.Dense(3, activation='softmax')(flatten)\n",
        "\n",
        "model = tf.keras.Model(inputs=input_layer, outputs=output_layer)\n",
        "\n",
        "model.summary()"
      ],
      "metadata": {
        "colab": {
          "base_uri": "https://localhost:8080/"
        },
        "id": "aHOS7okiz4nx",
        "outputId": "d13a1d88-2df6-4bb8-ad87-80099a0af160"
      },
      "execution_count": 15,
      "outputs": [
        {
          "output_type": "stream",
          "name": "stdout",
          "text": [
            "Model: \"model\"\n",
            "_________________________________________________________________\n",
            " Layer (type)                Output Shape              Param #   \n",
            "=================================================================\n",
            " input_1 (InputLayer)        [(None, 2548)]            0         \n",
            "                                                                 \n",
            " tf.expand_dims (TFOpLambda)  (None, 2548, 1)          0         \n",
            "                                                                 \n",
            " gru (GRU)                   (None, 2548, 256)         198912    \n",
            "                                                                 \n",
            " flatten (Flatten)           (None, 652288)            0         \n",
            "                                                                 \n",
            " dense (Dense)               (None, 3)                 1956867   \n",
            "                                                                 \n",
            "=================================================================\n",
            "Total params: 2,155,779\n",
            "Trainable params: 2,155,779\n",
            "Non-trainable params: 0\n",
            "_________________________________________________________________\n"
          ]
        }
      ]
    },
    {
      "cell_type": "code",
      "source": [
        "# compile the model\n",
        "\n",
        "model.compile(optimizer = 'adam', loss = 'sparse_categorical_crossentropy', metrics = ['accuracy'])"
      ],
      "metadata": {
        "id": "vIZM2fiAC0Tp"
      },
      "execution_count": 16,
      "outputs": []
    },
    {
      "cell_type": "code",
      "source": [
        "# early stop and checkpoints\n",
        "\n",
        "from keras.callbacks import ModelCheckpoint, EarlyStopping\n",
        "\n",
        "es = EarlyStopping(monitor='val_loss', min_delta= 0.01, patience = 3, verbose = 1, mode = 'auto', restore_best_weights = True)\n",
        "mcp = ModelCheckpoint(monitor='val_loss', filepath= './bestmodel.h5', verbose = 1, save_best_only = True, mode = 'auto')\n",
        "\n",
        "cb = [es, mcp]"
      ],
      "metadata": {
        "id": "VYaD7GulEYxk"
      },
      "execution_count": 17,
      "outputs": []
    },
    {
      "cell_type": "code",
      "source": [
        "# train the model\n",
        "\n",
        "history = model.fit(X_train, y_train, batch_size = 32, epochs = 30, verbose = 1, validation_split = 0.2, callbacks = cb)"
      ],
      "metadata": {
        "colab": {
          "base_uri": "https://localhost:8080/"
        },
        "id": "icX1sT13DsfP",
        "outputId": "8dad238a-e1f5-44dc-c2e4-f11508a9fc08"
      },
      "execution_count": 18,
      "outputs": [
        {
          "output_type": "stream",
          "name": "stdout",
          "text": [
            "Epoch 1/30\n",
            "43/43 [==============================] - ETA: 0s - loss: 31.3415 - accuracy: 0.8094\n",
            "Epoch 1: val_loss improved from inf to 12.13715, saving model to ./bestmodel.h5\n",
            "43/43 [==============================] - 14s 158ms/step - loss: 31.3415 - accuracy: 0.8094 - val_loss: 12.1372 - val_accuracy: 0.8504\n",
            "Epoch 2/30\n",
            "43/43 [==============================] - ETA: 0s - loss: 5.1701 - accuracy: 0.9194\n",
            "Epoch 2: val_loss improved from 12.13715 to 9.45076, saving model to ./bestmodel.h5\n",
            "43/43 [==============================] - 5s 118ms/step - loss: 5.1701 - accuracy: 0.9194 - val_loss: 9.4508 - val_accuracy: 0.8974\n",
            "Epoch 3/30\n",
            "43/43 [==============================] - ETA: 0s - loss: 2.8951 - accuracy: 0.9435\n",
            "Epoch 3: val_loss improved from 9.45076 to 5.26295, saving model to ./bestmodel.h5\n",
            "43/43 [==============================] - 6s 135ms/step - loss: 2.8951 - accuracy: 0.9435 - val_loss: 5.2630 - val_accuracy: 0.9062\n",
            "Epoch 4/30\n",
            "43/43 [==============================] - ETA: 0s - loss: 1.4831 - accuracy: 0.9663\n",
            "Epoch 4: val_loss improved from 5.26295 to 1.74103, saving model to ./bestmodel.h5\n",
            "43/43 [==============================] - 5s 121ms/step - loss: 1.4831 - accuracy: 0.9663 - val_loss: 1.7410 - val_accuracy: 0.9648\n",
            "Epoch 5/30\n",
            "43/43 [==============================] - ETA: 0s - loss: 0.2336 - accuracy: 0.9956\n",
            "Epoch 5: val_loss did not improve from 1.74103\n",
            "43/43 [==============================] - 5s 127ms/step - loss: 0.2336 - accuracy: 0.9956 - val_loss: 1.9172 - val_accuracy: 0.9648\n",
            "Epoch 6/30\n",
            "43/43 [==============================] - ETA: 0s - loss: 1.5581 - accuracy: 0.9677\n",
            "Epoch 6: val_loss did not improve from 1.74103\n",
            "43/43 [==============================] - 5s 121ms/step - loss: 1.5581 - accuracy: 0.9677 - val_loss: 8.1383 - val_accuracy: 0.9208\n",
            "Epoch 7/30\n",
            "43/43 [==============================] - ETA: 0s - loss: 0.2626 - accuracy: 0.9912Restoring model weights from the end of the best epoch: 4.\n",
            "\n",
            "Epoch 7: val_loss did not improve from 1.74103\n",
            "43/43 [==============================] - 5s 121ms/step - loss: 0.2626 - accuracy: 0.9912 - val_loss: 2.9306 - val_accuracy: 0.9619\n",
            "Epoch 7: early stopping\n"
          ]
        }
      ]
    },
    {
      "cell_type": "code",
      "source": [
        "# loss function\n",
        "\n",
        "plt.plot(history.history['loss'])\n",
        "plt.plot(history.history['val_loss'])\n",
        "\n",
        "plt.title('Loss Function')\n",
        "plt.legend(['train_loss', 'Val_loss'])\n",
        "plt.show()"
      ],
      "metadata": {
        "colab": {
          "base_uri": "https://localhost:8080/",
          "height": 281
        },
        "id": "YdVOvYWVNrgI",
        "outputId": "b1d24c3e-a521-47e6-ce7e-800989afc312"
      },
      "execution_count": 19,
      "outputs": [
        {
          "output_type": "display_data",
          "data": {
            "text/plain": [
              "<Figure size 432x288 with 1 Axes>"
            ],
            "image/png": "[encoded data removed]"
          },
          "metadata": {
            "needs_background": "light"
          }
        }
      ]
    },
    {
      "cell_type": "code",
      "source": [
        "# accuracy\n",
        "\n",
        "plt.plot(history.history['accuracy'])\n",
        "plt.plot(history.history['val_accuracy'])\n",
        "\n",
        "plt.title('Accuracy')\n",
        "plt.legend(['train_accuracy', 'Val_accuracy'])\n",
        "plt.show()"
      ],
      "metadata": {
        "colab": {
          "base_uri": "https://localhost:8080/",
          "height": 281
        },
        "id": "JWb_fZhBNyKq",
        "outputId": "fa705e96-338d-45ba-e37a-ef87d456eee7"
      },
      "execution_count": 20,
      "outputs": [
        {
          "output_type": "display_data",
          "data": {
            "text/plain": [
              "<Figure size 432x288 with 1 Axes>"
            ],
            "image/png": "[encoded data removed]"
          },
          "metadata": {
            "needs_background": "light"
          }
        }
      ]
    },
    {
      "cell_type": "code",
      "source": [
        "# load model\n",
        "\n",
        "from keras.models import load_model\n",
        "\n",
        "best_model = load_model(\"/content/bestmodel.h5\")"
      ],
      "metadata": {
        "id": "FqkRpoVnN-_c"
      },
      "execution_count": 21,
      "outputs": []
    },
    {
      "cell_type": "code",
      "source": [
        "# evaluate the model\n",
        "\n",
        "loss, acc = best_model.evaluate(X_test, y_test, verbose = 1)\n",
        "print('The accuracy score is', acc*100)"
      ],
      "metadata": {
        "colab": {
          "base_uri": "https://localhost:8080/"
        },
        "id": "SkEbFnX7Lxwo",
        "outputId": "c97709ac-0566-4f05-ee9f-f5cbfbd6c35a"
      },
      "execution_count": 22,
      "outputs": [
        {
          "output_type": "stream",
          "name": "stdout",
          "text": [
            "14/14 [==============================] - 1s 58ms/step - loss: 2.6640 - accuracy: 0.9602\n",
            "The accuracy score is 96.01873755455017\n"
          ]
        }
      ]
    },
    {
      "cell_type": "code",
      "source": [
        "# make prediction\n",
        "\n",
        "y_pred = best_model.predict(X_test, verbose = 1)\n",
        "y_pred"
      ],
      "metadata": {
        "colab": {
          "base_uri": "https://localhost:8080/"
        },
        "id": "x8FtMKvHPnxP",
        "outputId": "e7182f19-5af6-4dd7-ed10-6c0e142a02d4"
      },
      "execution_count": 23,
      "outputs": [
        {
          "output_type": "stream",
          "name": "stdout",
          "text": [
            "14/14 [==============================] - 1s 51ms/step\n"
          ]
        },
        {
          "output_type": "execute_result",
          "data": {
            "text/plain": [
              "array([[0.0000000e+00, 0.0000000e+00, 1.0000000e+00],\n",
              "       [1.0000000e+00, 0.0000000e+00, 0.0000000e+00],\n",
              "       [1.0000000e+00, 0.0000000e+00, 0.0000000e+00],\n",
              "       ...,\n",
              "       [0.0000000e+00, 1.0000000e+00, 0.0000000e+00],\n",
              "       [0.0000000e+00, 4.3727457e-38, 1.0000000e+00],\n",
              "       [0.0000000e+00, 1.0000000e+00, 0.0000000e+00]], dtype=float32)"
            ]
          },
          "metadata": {},
          "execution_count": 23
        }
      ]
    },
    {
      "cell_type": "code",
      "source": [
        "y_pred_class = np.array(list(map(lambda x: np.argmax(x), y_pred)))\n",
        "y_pred_class"
      ],
      "metadata": {
        "colab": {
          "base_uri": "https://localhost:8080/"
        },
        "id": "GZ-1TXqhP6if",
        "outputId": "f4ba9361-a8cf-4133-faba-15b73d2ea458"
      },
      "execution_count": 24,
      "outputs": [
        {
          "output_type": "execute_result",
          "data": {
            "text/plain": [
              "array([2, 0, 0, 2, 0, 2, 2, 2, 1, 1, 1, 1, 0, 2, 2, 2, 1, 2, 1, 2, 2, 1,\n",
              "       0, 2, 1, 1, 2, 0, 0, 1, 0, 1, 0, 2, 2, 1, 1, 0, 1, 1, 1, 0, 2, 2,\n",
              "       1, 0, 2, 0, 1, 0, 1, 1, 2, 0, 1, 0, 1, 0, 2, 0, 1, 2, 2, 0, 1, 1,\n",
              "       0, 1, 2, 0, 2, 2, 0, 1, 0, 1, 0, 0, 1, 2, 1, 1, 1, 2, 2, 1, 2, 1,\n",
              "       1, 0, 1, 1, 1, 1, 0, 2, 1, 1, 1, 2, 2, 1, 1, 1, 2, 0, 0, 0, 1, 2,\n",
              "       2, 1, 1, 1, 0, 1, 1, 1, 2, 1, 0, 2, 0, 2, 0, 2, 0, 1, 0, 1, 2, 2,\n",
              "       2, 2, 0, 1, 1, 1, 2, 0, 0, 1, 2, 2, 0, 2, 0, 2, 2, 0, 2, 1, 0, 0,\n",
              "       1, 2, 2, 0, 2, 1, 2, 2, 1, 1, 1, 0, 0, 1, 0, 0, 0, 0, 2, 1, 1, 2,\n",
              "       0, 1, 2, 2, 2, 0, 1, 1, 0, 2, 2, 2, 2, 0, 1, 0, 1, 1, 1, 0, 1, 0,\n",
              "       0, 2, 2, 0, 2, 0, 2, 1, 0, 1, 0, 0, 1, 2, 1, 2, 0, 2, 0, 2, 2, 2,\n",
              "       0, 2, 0, 2, 2, 1, 2, 1, 1, 0, 2, 0, 0, 2, 2, 2, 0, 2, 0, 1, 1, 2,\n",
              "       1, 2, 1, 2, 0, 1, 1, 0, 0, 2, 2, 2, 1, 1, 0, 0, 1, 1, 2, 1, 2, 2,\n",
              "       2, 0, 2, 0, 1, 2, 0, 2, 0, 2, 1, 1, 2, 0, 2, 2, 1, 1, 0, 2, 2, 1,\n",
              "       0, 2, 2, 0, 0, 1, 2, 0, 2, 0, 2, 0, 1, 0, 0, 0, 0, 0, 0, 0, 1, 2,\n",
              "       1, 1, 1, 1, 0, 0, 2, 1, 1, 1, 0, 2, 2, 0, 0, 0, 0, 0, 2, 0, 2, 2,\n",
              "       2, 2, 2, 0, 0, 0, 1, 0, 2, 2, 2, 2, 1, 2, 1, 1, 1, 0, 0, 1, 1, 1,\n",
              "       1, 1, 2, 0, 1, 1, 2, 1, 0, 1, 1, 0, 2, 2, 1, 1, 2, 1, 0, 2, 0, 1,\n",
              "       2, 2, 0, 2, 1, 0, 0, 1, 0, 1, 1, 0, 0, 0, 1, 2, 1, 2, 1, 0, 2, 0,\n",
              "       1, 1, 1, 2, 0, 0, 2, 1, 1, 2, 2, 1, 2, 2, 2, 0, 0, 1, 2, 2, 1, 0,\n",
              "       0, 1, 0, 2, 2, 2, 1, 2, 1])"
            ]
          },
          "metadata": {},
          "execution_count": 24
        }
      ]
    },
    {
      "cell_type": "code",
      "source": [
        "# evaluation\n",
        "\n",
        "from sklearn.metrics import confusion_matrix, classification_report\n",
        "\n",
        "cm = confusion_matrix(y_test, y_pred_class)\n",
        "report = classification_report(y_test, y_pred_class, target_names = label_dict.keys())\n",
        "\n",
        "print('Confusion Matrix')\n",
        "print('----------------------------')\n",
        "print()\n",
        "print(cm)\n",
        "print()\n",
        "print()\n",
        "print()\n",
        "print('Classification Report')\n",
        "print('----------------------------')\n",
        "print()\n",
        "print(report)"
      ],
      "metadata": {
        "colab": {
          "base_uri": "https://localhost:8080/"
        },
        "id": "zucJU_zaQYHe",
        "outputId": "ddfceeb0-a77d-4b89-86d3-d38ef51129d1"
      },
      "execution_count": 30,
      "outputs": [
        {
          "output_type": "stream",
          "name": "stdout",
          "text": [
            "Confusion Matrix\n",
            "----------------------------\n",
            "\n",
            "[[122   0   2]\n",
            " [  0 147   4]\n",
            " [ 11   0 141]]\n",
            "\n",
            "\n",
            "\n",
            "Classification Report\n",
            "----------------------------\n",
            "\n",
            "              precision    recall  f1-score   support\n",
            "\n",
            "    NEGATIVE       0.92      0.98      0.95       124\n",
            "     NEUTRAL       1.00      0.97      0.99       151\n",
            "    POSITIVE       0.96      0.93      0.94       152\n",
            "\n",
            "    accuracy                           0.96       427\n",
            "   macro avg       0.96      0.96      0.96       427\n",
            "weighted avg       0.96      0.96      0.96       427\n",
            "\n"
          ]
        }
      ]
    }
  ]
}